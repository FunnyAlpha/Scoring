{
 "cells": [
  {
   "cell_type": "code",
   "execution_count": 6,
   "metadata": {},
   "outputs": [
    {
     "name": "stdout",
     "output_type": "stream",
     "text": [
      "   SK_APPLICATION  CNT_CLOSED_CASH_POS  AGE_YEARS_REAL MAX_DATE_OPEN_CARD  \\\n",
      "0       211986061                 10.0            88.0         2020-04-20   \n",
      "\n",
      "  MIN_DATE_OPEN_CARD  ALL_CASH_POS  EDUCATION  \n",
      "0         2012-10-03            16        NaN  \n",
      "Wall time: 3.68 s\n"
     ]
    }
   ],
   "source": [
    "%%time\n",
    "\n",
    "from Application import Controller,BuilderVectorDWH,BuilderVectorBlazeStr\n",
    "from Predictors import Predictors\n",
    "import numpy as np\n",
    "from tabulate import tabulate\n",
    "from sklearn.preprocessing import MinMaxScaler\n",
    "from Parse import test_str\n",
    "\n",
    "if __name__ == \"__main__\":\n",
    "\n",
    "\n",
    "    def load_data_frame_dwh():\n",
    "\n",
    "        # GET INPUT DATA\n",
    "        v_input_data = None\n",
    "        controller = Controller()\n",
    "        builder = BuilderVectorDWH(v_input_data)\n",
    "        controller.builder = builder\n",
    "        controller.buildVctForTestScoreCard()\n",
    "        # GET OUTPUT DATA\n",
    "        predictors_dwh  = Predictors(builder.product.Application_df,\n",
    "                                    builder.product.CreditBureau_df,\n",
    "                                    builder.product.Behavioral_df,\n",
    "                                    builder.product.predictors_list_df,\n",
    "                                    builder.product.predictor_cash_df\n",
    "                                    )\n",
    "        predictors_dwh.get_predictors_dwh_df()\n",
    "        return predictors_dwh.rez_df[predictors_dwh.rez_df['SK_APPLICATION']==203841905]   \n",
    "\n",
    "\n",
    "    def load_data_frame_blaze_str(p_input_str):\n",
    "\n",
    "        # GET INPUT DATA\n",
    "        #v_input_data = p_input_str\n",
    "        controller = Controller()\n",
    "        builder = BuilderVectorBlazeStr(p_input_str)\n",
    "        controller.builder = builder\n",
    "        controller.buildVctForBlaze()\n",
    "        # GET OUTPUT DATA\n",
    "        #print(builder.product.Behavioral_df)\n",
    "        predictors_dwh  = Predictors(builder.product.Application_df,\n",
    "                                    builder.product.CreditBureau_df,\n",
    "                                    builder.product.Behavioral_df,\n",
    "                                    builder.product.predictors_list_df,\n",
    "                                    builder.product.predictor_cash_df\n",
    "                                    )\n",
    "        predictors_dwh.get_predictors_blaze_df()\n",
    "        return predictors_dwh.rez_df\n",
    "\n",
    "    #print('dwh: ',load_data_frame_dwh())\n",
    "    #print('blaze :',load_data_frame_blaze())   \n",
    "\n",
    "\n",
    "    #print(tabulate(load_data_frame_dwh(), headers='keys',tablefmt='psql',disable_numparse=True))\n",
    "    #print(tabulate(load_data_frame_blaze(), headers='keys',tablefmt='psql',disable_numparse=True))\n",
    "#     print(load_data_frame_blaze_str(test_str))\n",
    "#     print(tabulate(load_data_frame_blaze_str(test_str),headers='keys',disable_numparse=True))\n",
    "#     print(tabulate(load_data_frame_blaze_str(test_str), headers='keys',tablefmt='psql',disable_numparse=True))\n",
    "\n",
    "\n",
    "    from pycallgraph import PyCallGraph\n",
    "    from pycallgraph.output import GraphvizOutput\n",
    "    \n",
    "    with PyCallGraph(output=GraphvizOutput()):\n",
    "        df=load_data_frame_blaze_str(test_str)"
   ]
  },
  {
   "cell_type": "code",
   "execution_count": null,
   "metadata": {},
   "outputs": [],
   "source": []
  }
 ],
 "metadata": {
  "kernelspec": {
   "display_name": "Python 3.8.2 64-bit",
   "language": "python",
   "name": "python38264bit900cf71496924d9d846e3530110e4fd9"
  },
  "language_info": {
   "codemirror_mode": {
    "name": "ipython",
    "version": 3
   },
   "file_extension": ".py",
   "mimetype": "text/x-python",
   "name": "python",
   "nbconvert_exporter": "python",
   "pygments_lexer": "ipython3",
   "version": "3.8.2"
  }
 },
 "nbformat": 4,
 "nbformat_minor": 4
}
